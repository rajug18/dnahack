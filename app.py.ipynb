{
 "cells": [
  {
   "cell_type": "code",
   "execution_count": 3,
   "id": "e1e55dca",
   "metadata": {},
   "outputs": [],
   "source": [
    "import streamlit as st\n",
    "from urllib.parse import urlparse\n",
    "import psycopg2\n",
    "import os\n",
    "import pandas as pd\n",
    "import warnings \n",
    "warnings.filterwarnings(\"ignore\")\n",
    "from statsmodels.stats.outliers_influence import variance_inflation_factor"
   ]
  },
  {
   "cell_type": "code",
   "execution_count": 7,
   "id": "1d356b47",
   "metadata": {},
   "outputs": [
    {
     "data": {
      "text/plain": [
       "DeltaGenerator(_root_container=0, _provided_cursor=None, _parent=None, _block_type=None, _form_data=None)"
      ]
     },
     "execution_count": 7,
     "metadata": {},
     "output_type": "execute_result"
    }
   ],
   "source": [
    "st.title(\"DNA Hackathon\", anchor=None)"
   ]
  },
  {
   "cell_type": "code",
   "execution_count": 10,
   "id": "d48124d2",
   "metadata": {},
   "outputs": [],
   "source": [
    "selected_database = st.selectbox(\"Select the Databse Name\", (\"student\", \"employee\"))\n",
    "st.write(selected_database)\n",
    "selected_schema = st.selectbox(\"Select the Schema Name\", (\"info\", \"contact\"))\n",
    "st.write(selected_schema)\n"
   ]
  },
  {
   "cell_type": "code",
   "execution_count": 11,
   "id": "6bc21537",
   "metadata": {},
   "outputs": [],
   "source": [
    "first_name = st.text_input('Enter your First Name', 'None')\n",
    "st.write(first_name)"
   ]
  },
  {
   "cell_type": "code",
   "execution_count": 12,
   "id": "cb100272",
   "metadata": {},
   "outputs": [],
   "source": [
    "last_name = st.text_input('Enter your Last Name', 'None')\n",
    "st.write(last_name)"
   ]
  },
  {
   "cell_type": "code",
   "execution_count": 13,
   "id": "cb9c0945",
   "metadata": {},
   "outputs": [],
   "source": [
    "email_id = st.text_input('Enter your Email', 'None')\n",
    "st.write(email_id)"
   ]
  },
  {
   "cell_type": "code",
   "execution_count": 14,
   "id": "46c0a82a",
   "metadata": {},
   "outputs": [],
   "source": [
    "contact_no = st.text_input('Enter your Contact Number', 'None')\n",
    "st.write(contact_no)"
   ]
  },
  {
   "cell_type": "code",
   "execution_count": 16,
   "id": "719c5d4f",
   "metadata": {},
   "outputs": [],
   "source": [
    "address = st.text_input('Enter your Address', 'None')\n",
    "st.write(address)"
   ]
  },
  {
   "cell_type": "code",
   "execution_count": null,
   "id": "a4264ef6",
   "metadata": {},
   "outputs": [],
   "source": []
  },
  {
   "cell_type": "code",
   "execution_count": null,
   "id": "fc8300e2",
   "metadata": {},
   "outputs": [],
   "source": []
  },
  {
   "cell_type": "code",
   "execution_count": null,
   "id": "d309b877",
   "metadata": {},
   "outputs": [],
   "source": []
  },
  {
   "cell_type": "code",
   "execution_count": null,
   "id": "9167c253",
   "metadata": {},
   "outputs": [],
   "source": []
  },
  {
   "cell_type": "code",
   "execution_count": null,
   "id": "240583a7",
   "metadata": {},
   "outputs": [],
   "source": []
  }
 ],
 "metadata": {
  "kernelspec": {
   "display_name": "Python 3",
   "language": "python",
   "name": "python3"
  },
  "language_info": {
   "codemirror_mode": {
    "name": "ipython",
    "version": 3
   },
   "file_extension": ".py",
   "mimetype": "text/x-python",
   "name": "python",
   "nbconvert_exporter": "python",
   "pygments_lexer": "ipython3",
   "version": "3.8.8"
  }
 },
 "nbformat": 4,
 "nbformat_minor": 5
}
